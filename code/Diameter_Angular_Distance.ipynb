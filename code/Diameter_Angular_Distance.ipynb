{
 "metadata": {
  "name": "Diameter_Angular_Distance"
 },
 "nbformat": 3,
 "nbformat_minor": 0,
 "worksheets": [
  {
   "cells": [
    {
     "cell_type": "code",
     "collapsed": false,
     "input": [
      "%pylab inline\n",
      "from scipy.integrate import quad"
     ],
     "language": "python",
     "metadata": {},
     "outputs": [
      {
       "output_type": "stream",
       "stream": "stdout",
       "text": [
        "\n",
        "Welcome to pylab, a matplotlib-based Python environment [backend: module://IPython.zmq.pylab.backend_inline].\n",
        "For more information, type 'help(pylab)'.\n"
       ]
      }
     ],
     "prompt_number": 1
    },
    {
     "cell_type": "code",
     "collapsed": false,
     "input": [
      "def my_func(z):\n",
      "    return 1 / sqrt(0.26*(1+z)**3 + (0.74))"
     ],
     "language": "python",
     "metadata": {},
     "outputs": [],
     "prompt_number": 3
    },
    {
     "cell_type": "code",
     "collapsed": false,
     "input": [
      "Dc,err = quad(my_func, 8.0, 10.0)\n",
      "Dh = 3000\n",
      "Dc = Dc*Dh\n",
      "print Dc"
     ],
     "language": "python",
     "metadata": {},
     "outputs": [
      {
       "output_type": "stream",
       "stream": "stdout",
       "text": [
        "373.897661242\n"
       ]
      }
     ],
     "prompt_number": 4
    },
    {
     "cell_type": "code",
     "collapsed": false,
     "input": [
      "def DAD(theta, z, Dc):\n",
      "    theta =(theta/60.0)*pi/180.0\n",
      "    L = theta * Dc\n",
      "    return L"
     ],
     "language": "python",
     "metadata": {},
     "outputs": [],
     "prompt_number": 5
    },
    {
     "cell_type": "code",
     "collapsed": false,
     "input": [
      "DAD(4, 9.0, Dc)"
     ],
     "language": "python",
     "metadata": {},
     "outputs": [
      {
       "output_type": "pyout",
       "prompt_number": 6,
       "text": [
        "0.43504968361159996"
       ]
      }
     ],
     "prompt_number": 6
    },
    {
     "cell_type": "code",
     "collapsed": false,
     "input": [
      "def snapZ(zsnap, zi, zf):\n",
      "    x = []\n",
      "    zsnap = sort(zsnap)\n",
      "    for i in range(len(zsnap)-1):\n",
      "        x.append((zsnap[i+1]+zsnap[i])/2.0)\n",
      "    x.insert(0, zi)\n",
      "    x.append(zf)\n",
      "    return x\n",
      "        \n",
      "    "
     ],
     "language": "python",
     "metadata": {},
     "outputs": [],
     "prompt_number": 17
    },
    {
     "cell_type": "code",
     "collapsed": false,
     "input": [
      "zsnap=[9.9, 9.3, 9.8]\n",
      "cuts = snapZ(zsnap, 8, 10)\n",
      "print cuts"
     ],
     "language": "python",
     "metadata": {},
     "outputs": [
      {
       "output_type": "stream",
       "stream": "stdout",
       "text": [
        "[8, 9.5500000000000007, 9.8500000000000014, 10]\n"
       ]
      }
     ],
     "prompt_number": 22
    },
    {
     "cell_type": "code",
     "collapsed": false,
     "input": [
      "Dh = 3000\n",
      "DC = []\n",
      "for i in range(len(cuts)-1):\n",
      "    Dc,err = quad(my_func, cuts[i], cuts[i+1])\n",
      "    Dc = Dc*Dh\n",
      "    DC.append(Dc)\n",
      "print DC"
     ],
     "language": "python",
     "metadata": {},
     "outputs": [
      {
       "output_type": "stream",
       "stream": "stdout",
       "text": [
        "[299.1073520337531, 50.37664678561379, 24.41366242232997]\n"
       ]
      }
     ],
     "prompt_number": 23
    },
    {
     "cell_type": "code",
     "collapsed": false,
     "input": [],
     "language": "python",
     "metadata": {},
     "outputs": []
    }
   ],
   "metadata": {}
  }
 ]
}