{
 "metadata": {
  "name": "PencilBeamAlgorithm-3dImplementaiton"
 },
 "nbformat": 3,
 "nbformat_minor": 0,
 "worksheets": [
  {
   "cells": [
    {
     "cell_type": "code",
     "collapsed": false,
     "input": [
      "%pylab\n",
      "from mpl_toolkits.mplot3d import Axes3D"
     ],
     "language": "python",
     "metadata": {},
     "outputs": [
      {
       "output_type": "stream",
       "stream": "stdout",
       "text": [
        "\n",
        "Welcome to pylab, a matplotlib-based Python environment [backend: TkAgg].\n",
        "For more information, type 'help(pylab)'.\n"
       ]
      }
     ],
     "prompt_number": 21
    },
    {
     "cell_type": "code",
     "collapsed": false,
     "input": [
      "def sint_data(L):\n",
      "    x = random.random(430)*L\n",
      "    y = random.random(430)*L\n",
      "    z = random.random(430)*L\n",
      "    return x, y, z"
     ],
     "language": "python",
     "metadata": {},
     "outputs": [],
     "prompt_number": 109
    },
    {
     "cell_type": "heading",
     "level": 1,
     "metadata": {},
     "source": [
      "Implementing perdiodic boundary Conditions:"
     ]
    },
    {
     "cell_type": "code",
     "collapsed": false,
     "input": [
      "def random_cube(L, theta, phi):\n",
      "    x = []\n",
      "    y = []\n",
      "    z = []\n",
      "    #---------Origin \n",
      "    a1 = random.random(1)*L\n",
      "    b1 = random.random(1)*L\n",
      "    c1 = random.random(1)*L\n",
      "    # -------- bottom xedge\n",
      "    a2 = a1 + 0.2*L\n",
      "    b2 = b1 + cos(phi*pi/180)\n",
      "    c2 = c1\n",
      "    # ---------- right yedge\n",
      "    a3 = a2 + cos(theta*pi/180)\n",
      "    b3 = b1 + 0.2*L + cos(phi*pi/180)\n",
      "    c3 = c1\n",
      "    #----------- top xedge\n",
      "    a4 = a1 + cos(theta*pi/180)\n",
      "    b4 = b1 + 0.2*L\n",
      "    c4 = c1\n",
      "    # --------- # left yedge\n",
      "    a5 = a1 \n",
      "    b5 = b1\n",
      "    c5 = c1 +0.2*L\n",
      "    #------------ second face of the triangle\n",
      "    a6 = a1 + 0.2*L \n",
      "    b6 = b1 + cos(phi*pi/180)\n",
      "    c6 = c1 + 0.2*L\n",
      "    # ---------- right yedge\n",
      "    a7 = a1 + 0.2*L + cos(theta*pi/180)\n",
      "    b7 = b1 + 0.2*L + cos(phi*pi/180)\n",
      "    c7 = c1 + 0.2*L \n",
      "    #----------- top xedge\n",
      "    a8 = a1 + cos(theta*pi/180)\n",
      "    b8 = b1 + 0.2*L\n",
      "    c8 = c1 + 0.2*L\n",
      "    \n",
      "    x.append(a1)\n",
      "    y.append(b1)\n",
      "    z.append(c1)\n",
      "    x.append(a2)\n",
      "    y.append(b2)\n",
      "    z.append(c2)\n",
      "    x.append(a3)\n",
      "    y.append(b3)\n",
      "    z.append(c3)\n",
      "    x.append(a4)\n",
      "    y.append(b4)\n",
      "    z.append(c4)\n",
      "    x.append(a5)\n",
      "    y.append(b5)\n",
      "    z.append(c5)\n",
      "    x.append(a6)\n",
      "    y.append(b6)\n",
      "    z.append(c6)\n",
      "    x.append(a7)\n",
      "    y.append(b7)\n",
      "    z.append(c7)\n",
      "    x.append(a8)\n",
      "    y.append(b8)\n",
      "    z.append(c8)\n",
      "    \n",
      "    fig = plt.figure()\n",
      "    ax = fig.gca(projection='3d')\n",
      "    ax.set_xlim([0, L])\n",
      "    ax.set_ylim([0, L])\n",
      "    ax.set_zlim([0, L])\n",
      "    ax.scatter(x, y, z)\n",
      "    X, Y, Z = sint_data(L)\n",
      "    ax.scatter(X, Y, Z, c='r', alpha=0.5)\n",
      "    plt.show()\n",
      "    ax.set_xlabel(\"x\")\n",
      "    ax.set_ylabel(\"y\")\n",
      "    ax.set_zlabel(\"z\")\n",
      "    return a1, a2, a3, a4, a5, a6, a7, a8, b1, b2, b3, b4, b5, b6, b7, b8, c1, c2, c3, c4, c5, c6, c7 ,c8"
     ],
     "language": "python",
     "metadata": {},
     "outputs": [],
     "prompt_number": 67
    },
    {
     "cell_type": "code",
     "collapsed": false,
     "input": [
      "random_cube(10, 30, 20)"
     ],
     "language": "python",
     "metadata": {},
     "outputs": [
      {
       "output_type": "pyout",
       "prompt_number": 68,
       "text": [
        "(array([ 6.65576368]),\n",
        " array([ 8.65576368]),\n",
        " array([ 9.52178908]),\n",
        " array([ 7.52178908]),\n",
        " array([ 6.65576368]),\n",
        " array([ 8.65576368]),\n",
        " array([ 9.52178908]),\n",
        " array([ 7.52178908]),\n",
        " array([ 9.553637]),\n",
        " array([ 10.49332962]),\n",
        " array([ 12.49332962]),\n",
        " array([ 11.553637]),\n",
        " array([ 9.553637]),\n",
        " array([ 10.49332962]),\n",
        " array([ 12.49332962]),\n",
        " array([ 11.553637]),\n",
        " array([ 5.67747398]),\n",
        " array([ 5.67747398]),\n",
        " array([ 5.67747398]),\n",
        " array([ 5.67747398]),\n",
        " array([ 7.67747398]),\n",
        " array([ 7.67747398]),\n",
        " array([ 7.67747398]),\n",
        " array([ 7.67747398]))"
       ]
      }
     ],
     "prompt_number": 68
    },
    {
     "cell_type": "code",
     "collapsed": false,
     "input": [
      "def pbc(L, theta, phi):\n",
      "    a1, a2, a3, a4, a5, a6, a7, a8, b1, b2, b3, b4, b5, b6, b7, b8, c1, c2, c3, c4, c5, c6, c7 ,c8 = random_cube(L, theta, phi)\n",
      "    r = []\n",
      "    x = [a1, a2, a3, a4, a5, a6, a7, a8, b1, b2, b3, b4, b5, b6, b7, b8, c1, c2, c3, c4, c5, c6, c7 ,c8]\n",
      "    for i in range(len(x)):\n",
      "        if x[i] > L:\n",
      "            y = x[i]-L\n",
      "            r.append(y)\n",
      "        else:\n",
      "            r.append(x[i])\n",
      "            \n",
      "     \n",
      "    X, Y, Z = sint_data(L)\n",
      "  \n",
      "    if ((a1<=a2) & (b1 <=b3) & (c1<=c6)):\n",
      "        index = where((X<a2) & (X>a1) & (Y<b3) & (Y>b1) & (Z<c6) & (Z>c1)) \n",
      "    \"\"\"    \n",
      "    elif((a1>a2) & (b1 <=b3) & (c1<=c6)):\n",
      "        index = where((X>a2) & (X<a1) & (Y<b3) & (Y>b1) & (Z<c6) & (Z>c1))\n",
      "        \n",
      "            \n",
      "    elif((a1<=a2) & (b1 >b3) & (c1<=c6)):\n",
      "        index = where((X>a2) & (X<a1) & (Y<b3) & (Y>b1) & (Z<c6) & (Z>c1))\n",
      "        \n",
      "        \n",
      "    elif((a1<=a2) & (b1<=b3) & (c1>c6)):\n",
      "        index = where((X<a2) & (X>a1) & (Y<b3) & (Y>b1) & (Z>c6) & (Z<c1))\n",
      "    \"\"\"            \n",
      "          \n",
      "    X1 = X[index]\n",
      "    Y1 = Y[index]\n",
      "    Z1 = Z[index]\n",
      "    \n",
      "    fig = plt.figure()\n",
      "    ax = fig.gca(projection='3d')\n",
      "    ax.scatter(X, Y, Z, c='r', alpha=0.2)\n",
      "    ax.scatter(X1, Y1, Z1, c='green')\n",
      "    ax.scatter(r[0:8], r[8:16], r[16:24])\n",
      "    ax.set_xlabel(\"x\")\n",
      "    ax.set_ylabel(\"y\")\n",
      "    ax.set_zlabel(\"z\")\n",
      "    ax.set_xlim([0, L])\n",
      "    ax.set_ylim([0, L])\n",
      "    ax.set_zlim([0, L])"
     ],
     "language": "python",
     "metadata": {},
     "outputs": [],
     "prompt_number": 110
    },
    {
     "cell_type": "code",
     "collapsed": false,
     "input": [
      "pbc(10, 30 , 40)\n"
     ],
     "language": "python",
     "metadata": {},
     "outputs": [],
     "prompt_number": 111
    },
    {
     "cell_type": "code",
     "collapsed": false,
     "input": [],
     "language": "python",
     "metadata": {},
     "outputs": []
    }
   ],
   "metadata": {}
  }
 ]
}